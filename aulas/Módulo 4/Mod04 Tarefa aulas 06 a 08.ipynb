{
 "cells": [
  {
   "cell_type": "markdown",
   "metadata": {},
   "source": [
    "# Tarefa 03\n",
    "\n",
    "- Leia os enunciados com atenção\n",
    "- Saiba que pode haver mais de uma resposta correta\n",
    "- Insira novas células de código sempre que achar necessário\n",
    "- Em caso de dúvidas, procure os Tutores\n",
    "- Divirta-se :)"
   ]
  },
  {
   "cell_type": "code",
   "execution_count": null,
   "metadata": {},
   "outputs": [],
   "source": [
    "import pandas as pd\n",
    "import requests\n",
    "# Configurar para exibir mais linhas e colunas\n",
    "pd.set_option('display.max_rows', 100)\n",
    "pd.set_option('display.max_columns', 100)\n",
    "\n",
    "# Configurar para mostrar todo o conteúdo das colunas\n",
    "pd.set_option('display.max_colwidth', None)"
   ]
  },
  {
   "cell_type": "markdown",
   "metadata": {},
   "source": [
    "####  1) Lendo de APIs\n",
    "Vimos em aula como carregar dados públicos do governo através de um API (*Application Programming Interface*). No exemplo de aula, baixamos os dados de pedidos de verificação de limites (PVL) realizados por estados, e selecionamos apenas aqueles referentes ao estado de São Paulo.\n",
    "\n",
    "1. Repita os mesmos passos feitos em aula, mas selecione os PVLs realizados por municípios no estado do Rio de Janeiro.\n",
    "2. Quais são os três *status* das solicitações mais frequentes na base? Quais são suas frequências?\n",
    "3. Construa uma nova variável que contenha o ano do **status**. Observe que ```data_status``` vem como tipo *object* no **DataFrame**. Dica: você pode usar o método ```.str``` para transformar o tipo da variável em string, em seguida um método como [**slice()**](https://pandas.pydata.org/docs/reference/api/pandas.Series.str.slice.html) ou [**split()**](https://pandas.pydata.org/pandas-docs/stable/reference/api/pandas.Series.str.split.html).\n",
    "4. Indique a frequência de cada ano do campo construído no item (3)."
   ]
  },
  {
   "cell_type": "code",
   "execution_count": 3,
   "metadata": {},
   "outputs": [
    {
     "name": "stdout",
     "output_type": "stream",
     "text": [
      "   id_pleito tipo_interessado     interessado  cod_ibge  uf  \\\n",
      "0      21660           Estado  Rio de Janeiro        33  RJ   \n",
      "1       5923           Estado  Rio de Janeiro        33  RJ   \n",
      "2      13483           Estado  Rio de Janeiro        33  RJ   \n",
      "3      10890           Estado  Rio de Janeiro        33  RJ   \n",
      "4       5645           Estado  Rio de Janeiro        33  RJ   \n",
      "5      10606           Estado  Rio de Janeiro        33  RJ   \n",
      "6      22594           Estado  Rio de Janeiro        33  RJ   \n",
      "7       9898           Estado  Rio de Janeiro        33  RJ   \n",
      "8       5640           Estado  Rio de Janeiro        33  RJ   \n",
      "9       5630           Estado  Rio de Janeiro        33  RJ   \n",
      "\n",
      "                num_pvl  \\\n",
      "0  00000.000000/2026-68   \n",
      "1                  None   \n",
      "2                  None   \n",
      "3                  None   \n",
      "4                  None   \n",
      "5                  None   \n",
      "6  00000.000000/2031-89   \n",
      "7                  None   \n",
      "8                  None   \n",
      "9                  None   \n",
      "\n",
      "                                                  status  \\\n",
      "0                                     Arquivado a pedido   \n",
      "1  Encaminhado à PGFN com manifestação técnica favorável   \n",
      "2                                               Deferido   \n",
      "3  Encaminhado à PGFN com manifestação técnica favorável   \n",
      "4  Encaminhado à PGFN com manifestação técnica favorável   \n",
      "5                                               Deferido   \n",
      "6                         Arquivado por decurso de prazo   \n",
      "7                                               Deferido   \n",
      "8                                     Arquivado a pedido   \n",
      "9  Encaminhado à PGFN com manifestação técnica favorável   \n",
      "\n",
      "           num_processo        data_protocolo  \\\n",
      "0  17944.000245/2016-55  2016-03-11T03:00:00Z   \n",
      "1  17944.000234/2012-41  2012-04-16T03:00:00Z   \n",
      "2  19405.000010/2004-52  2006-02-15T02:00:00Z   \n",
      "3  17944.001308/2012-67  2012-10-17T03:00:00Z   \n",
      "4  17944.000161/2013-79  2013-04-08T03:00:00Z   \n",
      "5  17944.001240/2009-11  2009-10-22T02:00:00Z   \n",
      "6  17944.000657/2016-95  2016-05-12T03:00:00Z   \n",
      "7  17944.001076/2010-85  2011-05-25T03:00:00Z   \n",
      "8  17944.000160/2013-24  2013-03-18T03:00:00Z   \n",
      "9  17944.000158/2013-55  2013-10-22T02:00:00Z   \n",
      "\n",
      "                                         tipo_operacao  \\\n",
      "0  Operação contratual interna (com garantia da União)   \n",
      "1  Operação contratual externa (com garantia da União)   \n",
      "2                          Operação contratual interna   \n",
      "3  Operação contratual interna (com garantia da União)   \n",
      "4  Operação contratual interna (com garantia da União)   \n",
      "5                          Operação contratual interna   \n",
      "6  Operação contratual interna (com garantia da União)   \n",
      "7                          Operação contratual interna   \n",
      "8  Operação contratual externa (com garantia da União)   \n",
      "9  Operação contratual externa (com garantia da União)   \n",
      "\n",
      "                                       finalidade  \\\n",
      "0                    Fortalecimento Institucional   \n",
      "1                                  Infraestrutura   \n",
      "2                         Renegociação de dívidas   \n",
      "3                                      Proinveste   \n",
      "4                                  Infraestrutura   \n",
      "5  Aquisição de máquinas, equipamentos e veículos   \n",
      "6                                  Infraestrutura   \n",
      "7                                           Saúde   \n",
      "8                                  Infraestrutura   \n",
      "9                    Fortalecimento Institucional   \n",
      "\n",
      "                            tipo_credor  \\\n",
      "0       Instituição Financeira Nacional   \n",
      "1  Instituição Financeira Internacional   \n",
      "2       Instituição Financeira Nacional   \n",
      "3       Instituição Financeira Nacional   \n",
      "4       Instituição Financeira Nacional   \n",
      "5       Instituição Financeira Nacional   \n",
      "6       Instituição Financeira Nacional   \n",
      "7       Instituição Financeira Nacional   \n",
      "8  Instituição Financeira Internacional   \n",
      "9  Instituição Financeira Internacional   \n",
      "\n",
      "                                                    credor          moeda  \\\n",
      "0                                      Banco do Brasil S/A           Real   \n",
      "1                             Corporação Andina de Fomento  Dólar dos EUA   \n",
      "2     Banco Nacional de Desenvolvimento Econômico e Social           Real   \n",
      "3                                      Banco do Brasil S/A           Real   \n",
      "4     Banco Nacional de Desenvolvimento Econômico e Social           Real   \n",
      "5                                      Banco do Brasil S/A           Real   \n",
      "6     Banco Nacional de Desenvolvimento Econômico e Social           Real   \n",
      "7                                      Banco do Brasil S/A           Real   \n",
      "8                            Bank of America Merrill Lynch  Dólar dos EUA   \n",
      "9  Banco Internacional para Reconstrução e Desenvolvimento  Dólar dos EUA   \n",
      "\n",
      "          valor  pvl_assoc_divida  pvl_contradado_credor data_status  \n",
      "0  1.000000e+09                 0                      0  16/05/2016  \n",
      "1  2.000000e+08                 1                      0  04/10/2012  \n",
      "2  8.475263e+08                 1                      0  01/03/2006  \n",
      "3  9.409568e+08                 1                      0  20/11/2012  \n",
      "4  3.031405e+09                 1                      0  06/05/2013  \n",
      "5  2.000000e+07                 1                      0  04/11/2009  \n",
      "6  9.892104e+08                 0                      0  25/10/2016  \n",
      "7  1.328000e+08                 0                      0  07/06/2011  \n",
      "8  7.164179e+08                 0                      0  29/07/2013  \n",
      "9  4.800000e+07                 1                      0  21/11/2013  \n"
     ]
    }
   ],
   "source": [
    "# 1) Seu código aqui\n",
    "url = 'http://apidatalake.tesouro.gov.br/ords/sadipem/tt/pvl?uf=RJ&tipo_interessado=Estado'\n",
    "\n",
    "# Fazendo a requisição HTTP GET\n",
    "response = requests.get(url)\n",
    "\n",
    "# Verificando se a requisição foi bem-sucedida\n",
    "if response.status_code == 200:\n",
    "    # Convertendo a resposta JSON para um dicionário Python\n",
    "    data = response.json()\n",
    "    \n",
    "    # Convertendo o dicionário para um DataFrame do Pandas\n",
    "    # A chave 'items' contém a lista de registros\n",
    "    df = pd.json_normalize(data['items'])\n",
    "    \n",
    "    # Exibindo as primeiras linhas do DataFrame para verificar os dados carregados\n",
    "    print(df.head(10))\n",
    "else:\n",
    "    print(f'Falha na requisição. Status code: {response.status_code}')"
   ]
  },
  {
   "cell_type": "code",
   "execution_count": 4,
   "metadata": {},
   "outputs": [
    {
     "data": {
      "text/plain": [
       "status\n",
       "Encaminhado à PGFN com manifestação técnica favorável    34\n",
       "Deferido                                                 14\n",
       "Arquivado a pedido                                        3\n",
       "Arquivado por decurso de prazo                            1\n",
       "Name: count, dtype: int64"
      ]
     },
     "execution_count": 4,
     "metadata": {},
     "output_type": "execute_result"
    }
   ],
   "source": [
    "# 2) Seu código aqui\n",
    "df['status'].value_counts()"
   ]
  },
  {
   "cell_type": "code",
   "execution_count": 5,
   "metadata": {},
   "outputs": [
    {
     "name": "stdout",
     "output_type": "stream",
     "text": [
      "object\n"
     ]
    },
    {
     "data": {
      "text/plain": [
       "0    2016\n",
       "1    2012\n",
       "2    2006\n",
       "3    2012\n",
       "4    2013\n",
       "5    2009\n",
       "6    2016\n",
       "7    2011\n",
       "8    2013\n",
       "9    2013\n",
       "Name: ano_status, dtype: object"
      ]
     },
     "execution_count": 5,
     "metadata": {},
     "output_type": "execute_result"
    }
   ],
   "source": [
    "# 3) Seu código aqui \n",
    "# df['ano_status'] = df['data_status'].dt.year\n",
    "print(df['data_status'].dtype)\n",
    "df['ano_status'] = df['data_status'].astype(str).str[-4:]\n",
    "df['ano_status'].head(10)"
   ]
  },
  {
   "cell_type": "markdown",
   "metadata": {},
   "source": [
    "####  2) Melhorando a interação com o API\n",
    "Observe dois URLs de consultas diferentes, por exemplo o URL utilizado em aula, e o URL feito no exercício anterior. Compare-os e observe as diferenças.\n",
    "\n",
    "1. Faça uma função em Python que recebe como argumento o UF da consulta e o tipo de interessado (```'Estado'```ou ```Município```), e que devolve os dados da consulta no formato *DataFrame*.\n",
    "2. Quantas solicitações para o Estado podem ser consultadas para Minas Gerais com *status* em 'Arquivado por decurso de prazo' estão registradas?\n",
    "3. Qual é o município da Bahia com mais solicitações deferidas?\n",
    "4. Salve um arquivo .csv com os dados de solicitações da Bahia, com interessado = 'Estado'"
   ]
  },
  {
   "cell_type": "code",
   "execution_count": 9,
   "metadata": {},
   "outputs": [],
   "source": [
    "#1) Seu código aqui\n",
    "def baixar_dataframe_uf(uf, tipo_interessado):\n",
    "    url = f'http://apidatalake.tesouro.gov.br/ords/sadipem/tt/pvl?uf={uf}&tipo_interessado={tipo_interessado}'\n",
    "    response = requests.get(url)# Verificando se a requisição foi bem-sucedida\n",
    "    \n",
    "    if response.status_code == 200:\n",
    "        # Convertendo a resposta JSON para um dicionário Python\n",
    "        data = response.json()\n",
    "        \n",
    "        # Convertendo o dicionário para um DataFrame do Pandas\n",
    "        # A chave 'items' contém a lista de registros\n",
    "        df = pd.json_normalize(data['items'])\n",
    "        \n",
    "        # Exibindo as primeiras linhas do DataFrame para verificar os dados carregados\n",
    "        df.head(10)\n",
    "        return df\n",
    "    else:\n",
    "        print(f'Falha na requisição. Status code: {response.status_code}')\n"
   ]
  },
  {
   "cell_type": "code",
   "execution_count": 36,
   "metadata": {},
   "outputs": [
    {
     "name": "stdout",
     "output_type": "stream",
     "text": [
      "Foi encontrado 1 registro com status em \"Arquivado por decurso de prazo\"\n"
     ]
    }
   ],
   "source": [
    "# 2) Seu código aqui\n",
    "df_mg = baixar_dataframe_uf('MG','Estado')\n",
    "df_mg.head(10)\n",
    "\n",
    "# separo um DF com os deferidos\n",
    "df_mg_deferido = df_mg[df_mg['status'] == 'Arquivado por decurso de prazo']\n",
    "\n",
    "print(f'Foi encontrado {df_mg_deferido.shape[0]} registro com status em \"Arquivado por decurso de prazo\"')"
   ]
  },
  {
   "cell_type": "code",
   "execution_count": 29,
   "metadata": {},
   "outputs": [
    {
     "name": "stdout",
     "output_type": "stream",
     "text": [
      "interessado\n",
      "Luís Eduardo Magalhães       16\n",
      "Vitória da Conquista         12\n",
      "Lauro de Freitas             11\n",
      "Barreiras                    10\n",
      "Camaçari                     10\n",
      "                             ..\n",
      "Barra do Choça                1\n",
      "Caturama                      1\n",
      "Presidente Tancredo Neves     1\n",
      "Amélia Rodrigues              1\n",
      "Paulo Afonso                  1\n",
      "Name: count, Length: 185, dtype: int64\n"
     ]
    }
   ],
   "source": [
    "# 3) Seu código aqui\n",
    "df_ba = baixar_dataframe_uf('BA','Município')\n",
    "\n",
    "# separo um DF com os deferidos\n",
    "df_ba_deferido = df_ba[df_ba['status'] == 'Deferido']\n",
    "# faço a contagem de municípios (\"interessado\") com status deferido\n",
    "contagem_interessado = df_ba_deferido['interessado'].value_counts()\n",
    "\n",
    "print(contagem_interessado)"
   ]
  },
  {
   "cell_type": "code",
   "execution_count": 37,
   "metadata": {},
   "outputs": [],
   "source": [
    "# 4) Seu código aqui\n",
    "df_ba2 = baixar_dataframe_uf('BA','Estado')\n",
    "df_ba2.to_csv('dados_ba.csv', index=False)"
   ]
  }
 ],
 "metadata": {
  "kernelspec": {
   "display_name": "Python 3 (ipykernel)",
   "language": "python",
   "name": "python3"
  },
  "language_info": {
   "codemirror_mode": {
    "name": "ipython",
    "version": 3
   },
   "file_extension": ".py",
   "mimetype": "text/x-python",
   "name": "python",
   "nbconvert_exporter": "python",
   "pygments_lexer": "ipython3",
   "version": "3.11.7"
  }
 },
 "nbformat": 4,
 "nbformat_minor": 4
}
