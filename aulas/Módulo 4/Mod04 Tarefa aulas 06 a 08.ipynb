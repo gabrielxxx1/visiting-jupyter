{
 "cells": [
  {
   "cell_type": "markdown",
   "metadata": {},
   "source": [
    "# Tarefa 03\n",
    "\n",
    "- Leia os enunciados com atenção\n",
    "- Saiba que pode haver mais de uma resposta correta\n",
    "- Insira novas células de código sempre que achar necessário\n",
    "- Em caso de dúvidas, procure os Tutores\n",
    "- Divirta-se :)"
   ]
  },
  {
   "cell_type": "code",
   "execution_count": 1,
   "metadata": {},
   "outputs": [],
   "source": [
    "import pandas as pd\n",
    "import requests\n",
    "# Configurar para exibir mais linhas e colunas\n",
    "pd.set_option('display.max_rows', 100)\n",
    "pd.set_option('display.max_columns', 100)\n",
    "\n",
    "# Configurar para mostrar todo o conteúdo das colunas\n",
    "pd.set_option('display.max_colwidth', None)"
   ]
  },
  {
   "cell_type": "markdown",
   "metadata": {},
   "source": [
    "####  1) Lendo de APIs\n",
    "Vimos em aula como carregar dados públicos do governo através de um API (*Application Programming Interface*). No exemplo de aula, baixamos os dados de pedidos de verificação de limites (PVL) realizados por estados, e selecionamos apenas aqueles referentes ao estado de São Paulo.\n",
    "\n",
    "1. Repita os mesmos passos feitos em aula, mas selecione os PVLs realizados por municípios no estado do Rio de Janeiro.\n",
    "2. Quais são os três *status* das solicitações mais frequentes na base? Quais são suas frequências?\n",
    "3. Construa uma nova variável que contenha o ano do **status**. Observe que ```data_status``` vem como tipo *object* no **DataFrame**. Dica: você pode usar o método ```.str``` para transformar o tipo da variável em string, em seguida um método como [**slice()**](https://pandas.pydata.org/docs/reference/api/pandas.Series.str.slice.html) ou [**split()**](https://pandas.pydata.org/pandas-docs/stable/reference/api/pandas.Series.str.split.html).\n",
    "4. Indique a frequência de cada ano do campo construído no item (3)."
   ]
  },
  {
   "cell_type": "code",
   "execution_count": 2,
   "metadata": {},
   "outputs": [
    {
     "name": "stdout",
     "output_type": "stream",
     "text": [
      "   id_pleito tipo_interessado     interessado  cod_ibge  uf num_pvl  \\\n",
      "0       8528           Estado  Rio de Janeiro        33  RJ    None   \n",
      "1       7057           Estado  Rio de Janeiro        33  RJ    None   \n",
      "2       7084           Estado  Rio de Janeiro        33  RJ    None   \n",
      "3      13624           Estado  Rio de Janeiro        33  RJ    None   \n",
      "4       7085           Estado  Rio de Janeiro        33  RJ    None   \n",
      "5       5516           Estado  Rio de Janeiro        33  RJ    None   \n",
      "6       7080           Estado  Rio de Janeiro        33  RJ    None   \n",
      "7       8556           Estado  Rio de Janeiro        33  RJ    None   \n",
      "8       9750           Estado  Rio de Janeiro        33  RJ    None   \n",
      "9      10002           Estado  Rio de Janeiro        33  RJ    None   \n",
      "\n",
      "                                                  status  \\\n",
      "0                                               Deferido   \n",
      "1  Encaminhado à PGFN com manifestação técnica favorável   \n",
      "2  Encaminhado à PGFN com manifestação técnica favorável   \n",
      "3                                               Deferido   \n",
      "4  Encaminhado à PGFN com manifestação técnica favorável   \n",
      "5  Encaminhado à PGFN com manifestação técnica favorável   \n",
      "6  Encaminhado à PGFN com manifestação técnica favorável   \n",
      "7  Encaminhado à PGFN com manifestação técnica favorável   \n",
      "8                                               Deferido   \n",
      "9  Encaminhado à PGFN com manifestação técnica favorável   \n",
      "\n",
      "           num_processo        data_protocolo  \\\n",
      "0  17944.000793/2009-56  2009-07-17T03:00:00Z   \n",
      "1  17944.000487/2014-87  2014-04-24T03:00:00Z   \n",
      "2  17944.000493/2010-19  2010-08-06T03:00:00Z   \n",
      "3  19405.000039/2002-72  2002-06-20T03:00:00Z   \n",
      "4  17944.000493/2012-72  2012-04-16T03:00:00Z   \n",
      "5  17944.000131/2011-09  2011-06-30T03:00:00Z   \n",
      "6  17944.000492/2012-28  2012-04-16T03:00:00Z   \n",
      "7  17944.000797/2010-78  2011-06-30T03:00:00Z   \n",
      "8  17944.001046/2006-92  2006-07-07T03:00:00Z   \n",
      "9  17944.001097/2009-67  2009-09-09T03:00:00Z   \n",
      "\n",
      "                                         tipo_operacao  \\\n",
      "0                          Operação contratual interna   \n",
      "1  Operação contratual interna (com garantia da União)   \n",
      "2  Operação contratual externa (com garantia da União)   \n",
      "3                          Operação contratual interna   \n",
      "4  Operação contratual externa (com garantia da União)   \n",
      "5  Operação contratual externa (com garantia da União)   \n",
      "6  Operação contratual externa (com garantia da União)   \n",
      "7  Operação contratual externa (com garantia da União)   \n",
      "8                          Operação contratual interna   \n",
      "9  Operação contratual externa (com garantia da União)   \n",
      "\n",
      "                                                      finalidade  \\\n",
      "0  Aquisição de terrenos, imóveis e/ou construção de instalações   \n",
      "1                                                 Infraestrutura   \n",
      "2                                   Fortalecimento Institucional   \n",
      "3                                                 Infraestrutura   \n",
      "4                                                 Infraestrutura   \n",
      "5                                    Desenvolvimento sustentável   \n",
      "6                                                 Multissetorial   \n",
      "7                                                 Multissetorial   \n",
      "8                                                 Infraestrutura   \n",
      "9                                                       Profisco   \n",
      "\n",
      "                            tipo_credor  \\\n",
      "0       Instituição Financeira Nacional   \n",
      "1       Instituição Financeira Nacional   \n",
      "2  Instituição Financeira Internacional   \n",
      "3       Instituição Financeira Nacional   \n",
      "4  Instituição Financeira Internacional   \n",
      "5  Instituição Financeira Internacional   \n",
      "6  Instituição Financeira Internacional   \n",
      "7  Instituição Financeira Internacional   \n",
      "8       Instituição Financeira Nacional   \n",
      "9  Instituição Financeira Internacional   \n",
      "\n",
      "                                                    credor          moeda  \\\n",
      "0     Banco Nacional de Desenvolvimento Econômico e Social           Real   \n",
      "1     Banco Nacional de Desenvolvimento Econômico e Social           Real   \n",
      "2  Banco Internacional para Reconstrução e Desenvolvimento  Dólar dos EUA   \n",
      "3     Banco Nacional de Desenvolvimento Econômico e Social           Real   \n",
      "4                             Corporação Andina de Fomento  Dólar dos EUA   \n",
      "5  Banco Internacional para Reconstrução e Desenvolvimento  Dólar dos EUA   \n",
      "6  Banco Internacional para Reconstrução e Desenvolvimento  Dólar dos EUA   \n",
      "7                  Banco Interamericano de Desenvolvimento  Dólar dos EUA   \n",
      "8     Banco Nacional de Desenvolvimento Econômico e Social           Real   \n",
      "9                  Banco Interamericano de Desenvolvimento  Dólar dos EUA   \n",
      "\n",
      "          valor  pvl_assoc_divida  pvl_contradado_credor data_status  \n",
      "0  1.570000e+08                 1                      0  24/07/2009  \n",
      "1  3.000000e+09                 1                      0  04/07/2014  \n",
      "2  1.867300e+07                 1                      0  19/08/2010  \n",
      "3  6.748240e+07                 1                      0  27/06/2002  \n",
      "4  1.206660e+08                 1                      0  04/10/2012  \n",
      "5  4.850000e+08                 1                      0  04/07/2011  \n",
      "6  3.000000e+08                 1                      0  03/09/2012  \n",
      "7  1.120000e+08                 1                      0  04/07/2011  \n",
      "8  3.057373e+08                 1                      0  13/07/2006  \n",
      "9  1.975905e+07                 1                      0  28/09/2009  \n"
     ]
    }
   ],
   "source": [
    "# 1) Seu código aqui\n",
    "url = 'http://apidatalake.tesouro.gov.br/ords/sadipem/tt/pvl?uf=RJ&tipo_interessado=Estado'\n",
    "\n",
    "# Fazendo a requisição HTTP GET\n",
    "response = requests.get(url)\n",
    "\n",
    "# Verificando se a requisição foi bem-sucedida\n",
    "if response.status_code == 200:\n",
    "    # Convertendo a resposta JSON para um dicionário Python\n",
    "    data = response.json()\n",
    "    \n",
    "    # Convertendo o dicionário para um DataFrame do Pandas\n",
    "    # A chave 'items' contém a lista de registros\n",
    "    df = pd.json_normalize(data['items'])\n",
    "    \n",
    "    # Exibindo as primeiras linhas do DataFrame para verificar os dados carregados\n",
    "    print(df.head(10))\n",
    "else:\n",
    "    print(f'Falha na requisição. Status code: {response.status_code}')"
   ]
  },
  {
   "cell_type": "code",
   "execution_count": 3,
   "metadata": {},
   "outputs": [
    {
     "data": {
      "text/plain": [
       "status\n",
       "Encaminhado à PGFN com manifestação técnica favorável    34\n",
       "Deferido                                                 14\n",
       "Arquivado a pedido                                        3\n",
       "Arquivado por decurso de prazo                            1\n",
       "Name: count, dtype: int64"
      ]
     },
     "execution_count": 3,
     "metadata": {},
     "output_type": "execute_result"
    }
   ],
   "source": [
    "# 2) Seu código aqui\n",
    "df['status'].value_counts()"
   ]
  },
  {
   "cell_type": "code",
   "execution_count": 62,
   "metadata": {},
   "outputs": [
    {
     "name": "stdout",
     "output_type": "stream",
     "text": [
      "object\n"
     ]
    },
    {
     "data": {
      "text/plain": [
       "0    2009\n",
       "1    2014\n",
       "2    2010\n",
       "3    2002\n",
       "4    2012\n",
       "5    2011\n",
       "6    2012\n",
       "7    2011\n",
       "8    2006\n",
       "9    2009\n",
       "Name: ano_status, dtype: object"
      ]
     },
     "execution_count": 62,
     "metadata": {},
     "output_type": "execute_result"
    }
   ],
   "source": [
    "# 3) Seu código aqui \n",
    "# df['ano_status'] = df['data_status'].dt.year\n",
    "print(df['data_status'].dtype)\n",
    "df['ano_status'] = df['data_status'].astype(str).str[-4:]\n",
    "df['ano_status'].head(10)"
   ]
  },
  {
   "cell_type": "markdown",
   "metadata": {},
   "source": [
    "####  2) Melhorando a interação com o API\n",
    "Observe dois URLs de consultas diferentes, por exemplo o URL utilizado em aula, e o URL feito no exercício anterior. Compare-os e observe as diferenças.\n",
    "\n",
    "1. Faça uma função em Python que recebe como argumento o UF da consulta e o tipo de interessado (```'Estado'```ou ```Município```), e que devolve os dados da consulta no formato *DataFrame*.\n",
    "2. Quantas solicitações para o Estado podem ser consultadas para Minas Gerais com *status* em 'Arquivado por decurso de prazo' estão registradas?\n",
    "3. Qual é o município da Bahia com mais solicitações deferidas?\n",
    "4. Salve um arquivo .csv com os dados de solicitações da Bahia, com interessado = 'Estado'"
   ]
  },
  {
   "cell_type": "code",
   "execution_count": 30,
   "metadata": {},
   "outputs": [],
   "source": [
    "#1) Seu código aqui\n",
    "def baixar_dataframe_uf(uf):\n",
    "    url = f'http://apidatalake.tesouro.gov.br/ords/sadipem/tt/pvl?uf={uf}&tipo_interessado=Estado'\n",
    "    response = requests.get(url)# Verificando se a requisição foi bem-sucedida\n",
    "    \n",
    "    if response.status_code == 200:\n",
    "        # Convertendo a resposta JSON para um dicionário Python\n",
    "        data = response.json()\n",
    "        \n",
    "        # Convertendo o dicionário para um DataFrame do Pandas\n",
    "        # A chave 'items' contém a lista de registros\n",
    "        df = pd.json_normalize(data['items'])\n",
    "        \n",
    "        # Exibindo as primeiras linhas do DataFrame para verificar os dados carregados\n",
    "        df.head(10)\n",
    "        return df\n",
    "    else:\n",
    "        print(f'Falha na requisição. Status code: {response.status_code}')\n"
   ]
  },
  {
   "cell_type": "code",
   "execution_count": 36,
   "metadata": {},
   "outputs": [
    {
     "data": {
      "text/plain": [
       "status\n",
       "Encaminhado à PGFN com manifestação técnica favorável    20\n",
       "Deferido                                                  7\n",
       "Arquivado a pedido                                        5\n",
       "Arquivado                                                 3\n",
       "Arquivado pela STN                                        3\n",
       "Em retificação pelo interessado                           1\n",
       "Indeferido                                                1\n",
       "Arquivado por decurso de prazo                            1\n",
       "Name: count, dtype: int64"
      ]
     },
     "execution_count": 36,
     "metadata": {},
     "output_type": "execute_result"
    }
   ],
   "source": [
    "# 2) Seu código aqui\n",
    "df_mg = baixar_dataframe_uf('MG')\n",
    "df_mg['status'].value_counts()\n",
    "\n",
    "# Arquivado por decurso de prazo = 1"
   ]
  },
  {
   "cell_type": "code",
   "execution_count": 59,
   "metadata": {},
   "outputs": [
    {
     "name": "stdout",
     "output_type": "stream",
     "text": [
      "interessado\n",
      "Bahia    50\n",
      "Name: count, dtype: int64\n"
     ]
    }
   ],
   "source": [
    "# 3) Seu código aqui\n",
    "df_ba = baixar_dataframe_uf('BA')\n",
    "\n",
    "df_ba_deferido = df_ba[df_ba['status'] == 'Deferido']\n",
    "contagem_interessado  = df_ba_deferido['interessado'].value_counts()\n",
    "\n",
    "print(contagem_interessado)\n",
    "\n",
    "# Não encontrei o campo município :( No entanto usei a coluna interessado como exemplo de como usaria o value_counts para contar quantos municipios\n",
    "# existe entre os deferidos\n"
   ]
  },
  {
   "cell_type": "code",
   "execution_count": 58,
   "metadata": {},
   "outputs": [],
   "source": [
    "# 4) Seu código aqui\n",
    "df_ba.to_csv('dados_ba.csv', index=False)"
   ]
  }
 ],
 "metadata": {
  "kernelspec": {
   "display_name": "Python 3 (ipykernel)",
   "language": "python",
   "name": "python3"
  },
  "language_info": {
   "codemirror_mode": {
    "name": "ipython",
    "version": 3
   },
   "file_extension": ".py",
   "mimetype": "text/x-python",
   "name": "python",
   "nbconvert_exporter": "python",
   "pygments_lexer": "ipython3",
   "version": "3.11.7"
  }
 },
 "nbformat": 4,
 "nbformat_minor": 4
}
