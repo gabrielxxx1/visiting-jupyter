{
 "cells": [
  {
   "cell_type": "markdown",
   "metadata": {},
   "source": [
    "# Tarefa 03\n",
    "\n",
    "- Leia os enunciados com atenção\n",
    "- Saiba que pode haver mais de uma resposta correta\n",
    "- Insira novas células de código sempre que achar necessário\n",
    "- Em caso de dúvidas, procure os Tutores\n",
    "- Divirta-se :)"
   ]
  },
  {
   "cell_type": "code",
   "execution_count": 2,
   "metadata": {},
   "outputs": [],
   "source": [
    "import pandas as pd\n",
    "import requests\n",
    "# Configurar para exibir mais linhas e colunas\n",
    "pd.set_option('display.max_rows', 100)\n",
    "pd.set_option('display.max_columns', 100)\n",
    "\n",
    "# Configurar para mostrar todo o conteúdo das colunas\n",
    "pd.set_option('display.max_colwidth', None)"
   ]
  },
  {
   "cell_type": "markdown",
   "metadata": {},
   "source": [
    "####  1) Lendo de APIs\n",
    "Vimos em aula como carregar dados públicos do governo através de um API (*Application Programming Interface*). No exemplo de aula, baixamos os dados de pedidos de verificação de limites (PVL) realizados por estados, e selecionamos apenas aqueles referentes ao estado de São Paulo.\n",
    "\n",
    "1. Repita os mesmos passos feitos em aula, mas selecione os PVLs realizados por municípios no estado do Rio de Janeiro.\n",
    "2. Quais são os três *status* das solicitações mais frequentes na base? Quais são suas frequências?\n",
    "3. Construa uma nova variável que contenha o ano do **status**. Observe que ```data_status``` vem como tipo *object* no **DataFrame**. Dica: você pode usar o método ```.str``` para transformar o tipo da variável em string, em seguida um método como [**slice()**](https://pandas.pydata.org/docs/reference/api/pandas.Series.str.slice.html) ou [**split()**](https://pandas.pydata.org/pandas-docs/stable/reference/api/pandas.Series.str.split.html).\n",
    "4. Indique a frequência de cada ano do campo construído no item (3)."
   ]
  },
  {
   "cell_type": "code",
   "execution_count": 3,
   "metadata": {},
   "outputs": [
    {
     "name": "stdout",
     "output_type": "stream",
     "text": [
      "   id_pleito tipo_interessado            interessado  cod_ibge  uf  \\\n",
      "0      66751        Município               Mesquita   3302858  RJ   \n",
      "1      61009        Município         Rio das Flores   3304508  RJ   \n",
      "2      50533        Município            Nova Iguaçu   3303500  RJ   \n",
      "3       9205        Município  Campos dos Goytacazes   3301009  RJ   \n",
      "4       7986        Município              Rio Claro   3304409  RJ   \n",
      "5      12521        Município            Nova Iguaçu   3303500  RJ   \n",
      "6       8839        Município            Porciúncula   3304102  RJ   \n",
      "7      36529        Município                Resende   3304201  RJ   \n",
      "8      34869        Município            Nova Iguaçu   3303500  RJ   \n",
      "9      65407        Município               Itaboraí   3301900  RJ   \n",
      "\n",
      "                num_pvl                          status          num_processo  \\\n",
      "0  PVL02.003123/2023-87                        Deferido  17944.104458/2023-84   \n",
      "1  PVL02.007214/2022-19  Arquivado por decurso de prazo  17944.103071/2022-20   \n",
      "2  PVL02.004441/2021-01                        Deferido  17944.104359/2021-31   \n",
      "3                  None                        Deferido  17944.000926/2013-71   \n",
      "4                  None                        Deferido  17944.000690/2010-20   \n",
      "5                  None                        Deferido  17944.001705/2007-71   \n",
      "6                  None                       Arquivado  17944.000850/2008-16   \n",
      "7  PVL02.005421/2019-25               Deferido (PVL-IF)                  None   \n",
      "8  PVL02.003184/2019-68                        Deferido  17944.103149/2019-19   \n",
      "9  PVL02.001946/2023-78              Arquivado a pedido  17944.102785/2023-00   \n",
      "\n",
      "         data_protocolo                tipo_operacao  \\\n",
      "0  2023-09-27T12:23:11Z  Operação contratual interna   \n",
      "1  2022-08-12T18:48:50Z  Operação contratual interna   \n",
      "2  2021-12-02T22:42:03Z  Operação contratual interna   \n",
      "3  2013-12-20T02:00:00Z  Operação contratual interna   \n",
      "4  2011-06-01T03:00:00Z  Operação contratual interna   \n",
      "5  2008-03-24T03:00:00Z  Operação contratual interna   \n",
      "6  2008-09-01T03:00:00Z  Operação contratual interna   \n",
      "7                  None  Operação contratual interna   \n",
      "8  2019-09-03T21:24:51Z  Operação contratual interna   \n",
      "9  2023-06-30T18:15:09Z  Operação contratual interna   \n",
      "\n",
      "                                                     finalidade  \\\n",
      "0                                                Multissetorial   \n",
      "1                                                Infraestrutura   \n",
      "2                                                Infraestrutura   \n",
      "3  PAC 2 - Pró-Transporte - Pavimentação e Qualificação de Vias   \n",
      "4                                                       Provias   \n",
      "5                                      PAC - Pró-Moradia - 2008   \n",
      "6                                           Caminho da Escola 2   \n",
      "7                Aquisição de máquinas, equipamentos e veículos   \n",
      "8                                                Infraestrutura   \n",
      "9                                                Infraestrutura   \n",
      "\n",
      "                       tipo_credor  \\\n",
      "0  Instituição Financeira Nacional   \n",
      "1  Instituição Financeira Nacional   \n",
      "2  Instituição Financeira Nacional   \n",
      "3  Instituição Financeira Nacional   \n",
      "4  Instituição Financeira Nacional   \n",
      "5  Instituição Financeira Nacional   \n",
      "6  Instituição Financeira Nacional   \n",
      "7  Instituição Financeira Nacional   \n",
      "8  Instituição Financeira Nacional   \n",
      "9  Instituição Financeira Nacional   \n",
      "\n",
      "                                           credor moeda         valor  \\\n",
      "0  Agência de Fomento do Estado do Rio de Janeiro  Real  5.000000e+07   \n",
      "1                         Caixa Econômica Federal  Real  6.000000e+06   \n",
      "2                         Caixa Econômica Federal  Real  1.000000e+08   \n",
      "3                         Caixa Econômica Federal  Real  3.000000e+08   \n",
      "4                             Banco do Brasil S/A  Real  6.474000e+05   \n",
      "5                         Caixa Econômica Federal  Real  1.424795e+08   \n",
      "6                             Banco do Brasil S/A  Real  1.455000e+05   \n",
      "7                             Banco do Brasil S/A  Real  3.082637e+06   \n",
      "8                         Caixa Econômica Federal  Real  1.400000e+08   \n",
      "9                         Caixa Econômica Federal  Real  1.000000e+08   \n",
      "\n",
      "   pvl_assoc_divida  pvl_contradado_credor data_status  \n",
      "0                 0                      1  28/09/2023  \n",
      "1                 0                      0  10/02/2023  \n",
      "2                 0                      0  13/12/2021  \n",
      "3                 0                      0  26/12/2013  \n",
      "4                 0                      0  22/07/2011  \n",
      "5                 1                      0  27/03/2008  \n",
      "6                 0                      0  13/11/2008  \n",
      "7                 0                      1  28/10/2019  \n",
      "8                 1                      0  11/09/2019  \n",
      "9                 0                      0  05/10/2023  \n"
     ]
    }
   ],
   "source": [
    "# 1) Seu código aqui\n",
    "url = 'http://apidatalake.tesouro.gov.br/ords/sadipem/tt/pvl?uf=RJ&tipo_interessado=Município'\n",
    "\n",
    "# Fazendo a requisição HTTP GET\n",
    "response = requests.get(url)\n",
    "\n",
    "# Verificando se a requisição foi bem-sucedida\n",
    "if response.status_code == 200:\n",
    "    # Convertendo a resposta JSON para um dicionário Python\n",
    "    data = response.json()\n",
    "    \n",
    "    # Convertendo o dicionário para um DataFrame do Pandas\n",
    "    # A chave 'items' contém a lista de registros\n",
    "    df = pd.json_normalize(data['items'])\n",
    "    \n",
    "    # Exibindo as primeiras linhas do DataFrame para verificar os dados carregados\n",
    "    print(df.head(10))\n",
    "else:\n",
    "    print(f'Falha na requisição. Status code: {response.status_code}')"
   ]
  },
  {
   "cell_type": "code",
   "execution_count": 4,
   "metadata": {},
   "outputs": [
    {
     "data": {
      "text/plain": [
       "status\n",
       "Deferido                                                 106\n",
       "Arquivado                                                 53\n",
       "Regularizado                                              26\n",
       "Arquivado por decurso de prazo                            24\n",
       "Deferido (PVL-IF)                                         24\n",
       "Encaminhado à PGFN com manifestação técnica favorável     14\n",
       "Arquivado a pedido                                         8\n",
       "Em retificação pelo interessado                            3\n",
       "Em análise                                                 2\n",
       "Arquivado a pedido (PVL-IF)                                1\n",
       "Arquivado pela STN                                         1\n",
       "Name: count, dtype: int64"
      ]
     },
     "execution_count": 4,
     "metadata": {},
     "output_type": "execute_result"
    }
   ],
   "source": [
    "# 2) Seu código aqui\n",
    "df['status'].value_counts()"
   ]
  },
  {
   "cell_type": "code",
   "execution_count": 5,
   "metadata": {},
   "outputs": [
    {
     "name": "stdout",
     "output_type": "stream",
     "text": [
      "object\n"
     ]
    },
    {
     "data": {
      "text/plain": [
       "0    2016\n",
       "1    2012\n",
       "2    2006\n",
       "3    2012\n",
       "4    2013\n",
       "5    2009\n",
       "6    2016\n",
       "7    2011\n",
       "8    2013\n",
       "9    2013\n",
       "Name: ano_status, dtype: object"
      ]
     },
     "execution_count": 5,
     "metadata": {},
     "output_type": "execute_result"
    }
   ],
   "source": [
    "# 3) Seu código aqui \n",
    "# df['ano_status'] = df['data_status'].dt.year\n",
    "print(df['data_status'].dtype)\n",
    "df['ano_status'] = df['data_status'].astype(str).str[-4:]\n",
    "df['ano_status'].head(10)"
   ]
  },
  {
   "cell_type": "markdown",
   "metadata": {},
   "source": [
    "####  2) Melhorando a interação com o API\n",
    "Observe dois URLs de consultas diferentes, por exemplo o URL utilizado em aula, e o URL feito no exercício anterior. Compare-os e observe as diferenças.\n",
    "\n",
    "1. Faça uma função em Python que recebe como argumento o UF da consulta e o tipo de interessado (```'Estado'```ou ```Município```), e que devolve os dados da consulta no formato *DataFrame*.\n",
    "2. Quantas solicitações para o Estado podem ser consultadas para Minas Gerais com *status* em 'Arquivado por decurso de prazo' estão registradas?\n",
    "3. Qual é o município da Bahia com mais solicitações deferidas?\n",
    "4. Salve um arquivo .csv com os dados de solicitações da Bahia, com interessado = 'Estado'"
   ]
  },
  {
   "cell_type": "code",
   "execution_count": 9,
   "metadata": {},
   "outputs": [],
   "source": [
    "#1) Seu código aqui\n",
    "def baixar_dataframe_uf(uf, tipo_interessado):\n",
    "    url = f'http://apidatalake.tesouro.gov.br/ords/sadipem/tt/pvl?uf={uf}&tipo_interessado={tipo_interessado}'\n",
    "    response = requests.get(url)# Verificando se a requisição foi bem-sucedida\n",
    "    \n",
    "    if response.status_code == 200:\n",
    "        # Convertendo a resposta JSON para um dicionário Python\n",
    "        data = response.json()\n",
    "        \n",
    "        # Convertendo o dicionário para um DataFrame do Pandas\n",
    "        # A chave 'items' contém a lista de registros\n",
    "        df = pd.json_normalize(data['items'])\n",
    "        \n",
    "        # Exibindo as primeiras linhas do DataFrame para verificar os dados carregados\n",
    "        df.head(10)\n",
    "        return df\n",
    "    else:\n",
    "        print(f'Falha na requisição. Status code: {response.status_code}')\n"
   ]
  },
  {
   "cell_type": "code",
   "execution_count": 36,
   "metadata": {},
   "outputs": [
    {
     "name": "stdout",
     "output_type": "stream",
     "text": [
      "Foi encontrado 1 registro com status em \"Arquivado por decurso de prazo\"\n"
     ]
    }
   ],
   "source": [
    "# 2) Seu código aqui\n",
    "df_mg = baixar_dataframe_uf('MG','Estado')\n",
    "df_mg.head(10)\n",
    "\n",
    "# separo um DF com os deferidos\n",
    "df_mg_deferido = df_mg[df_mg['status'] == 'Arquivado por decurso de prazo']\n",
    "\n",
    "print(f'Foi encontrado {df_mg_deferido.shape[0]} registro com status em \"Arquivado por decurso de prazo\"')"
   ]
  },
  {
   "cell_type": "code",
   "execution_count": 29,
   "metadata": {},
   "outputs": [
    {
     "name": "stdout",
     "output_type": "stream",
     "text": [
      "interessado\n",
      "Luís Eduardo Magalhães       16\n",
      "Vitória da Conquista         12\n",
      "Lauro de Freitas             11\n",
      "Barreiras                    10\n",
      "Camaçari                     10\n",
      "                             ..\n",
      "Barra do Choça                1\n",
      "Caturama                      1\n",
      "Presidente Tancredo Neves     1\n",
      "Amélia Rodrigues              1\n",
      "Paulo Afonso                  1\n",
      "Name: count, Length: 185, dtype: int64\n"
     ]
    }
   ],
   "source": [
    "# 3) Seu código aqui\n",
    "df_ba = baixar_dataframe_uf('BA','Município')\n",
    "\n",
    "# separo um DF com os deferidos\n",
    "df_ba_deferido = df_ba[df_ba['status'] == 'Deferido']\n",
    "# faço a contagem de municípios (\"interessado\") com status deferido\n",
    "contagem_interessado = df_ba_deferido['interessado'].value_counts()\n",
    "\n",
    "print(contagem_interessado)"
   ]
  },
  {
   "cell_type": "code",
   "execution_count": 37,
   "metadata": {},
   "outputs": [],
   "source": [
    "# 4) Seu código aqui\n",
    "df_ba2 = baixar_dataframe_uf('BA','Estado')\n",
    "df_ba2.to_csv('dados_ba.csv', index=False)"
   ]
  }
 ],
 "metadata": {
  "kernelspec": {
   "display_name": "Python 3 (ipykernel)",
   "language": "python",
   "name": "python3"
  },
  "language_info": {
   "codemirror_mode": {
    "name": "ipython",
    "version": 3
   },
   "file_extension": ".py",
   "mimetype": "text/x-python",
   "name": "python",
   "nbconvert_exporter": "python",
   "pygments_lexer": "ipython3",
   "version": "3.11.7"
  }
 },
 "nbformat": 4,
 "nbformat_minor": 4
}
