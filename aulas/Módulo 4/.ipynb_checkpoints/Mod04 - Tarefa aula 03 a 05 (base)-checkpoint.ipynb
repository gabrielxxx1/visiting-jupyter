{
 "cells": [
  {
   "cell_type": "markdown",
   "metadata": {},
   "source": [
    "## Exercício 1: Vestibular\n",
    "\n",
    "Considere que a os dados gerados na célula abaixo contêm o número de acertos de 100 alunos em um vestibular para um curso de exatas, divididas pelos respectivos assuntos. Considere que cada assunto possui um número de questões conforme a tabela abaixo:\n",
    "\n",
    "| assunto | número de questões |\n",
    "|:---:|:---:|\n",
    "| Matemática | 24 |\n",
    "| Português | 18 |\n",
    "| Geografia | 8 |\n",
    "| Inglês | 8 |\n",
    "| História | 8 |\n",
    "| Física | 12 |\n",
    "| Química | 12 |\n",
    "\n",
    "Usando os comandos de operações com DataFrames que você aprendeu na Aula 03, calcule:\n",
    "\n",
    "1. (operações com escalar) Calcule o percentual de acerto dos alunos por assunto.  \n",
    "2. (operações entre *DataFrames) Calcule o total de acertos de cada aluno.  \n",
    "3. Calcule o porcentual geral de cada aluno.  \n",
    "4. Suponha que a nota de corte para a segunda fase seja 45. Quantos alunos tiveram nota maior que 45?  "
   ]
  },
  {
   "cell_type": "code",
   "execution_count": 39,
   "metadata": {},
   "outputs": [],
   "source": [
    "import pandas as pd\n",
    "import numpy as np\n",
    "\n",
    "np.random.seed(42)\n",
    "df_mat = pd.DataFrame(np.random.randint(24, size=(100, 1)), columns=['Qt_acertos'])\n",
    "\n",
    "df_por = pd.DataFrame(np.random.randint(18, size=(100, 1)), columns=['Qt_acertos'])\n",
    "\n",
    "df_geo = pd.DataFrame(np.random.randint(8, size=(100, 1)), columns=['Qt_acertos'])\n",
    "\n",
    "df_ing = pd.DataFrame(np.random.randint(8, size=(100, 1)), columns=['Qt_acertos'])\n",
    "\n",
    "df_his = pd.DataFrame(np.random.randint(8, size=(100, 1)), columns=['Qt_acertos'])\n",
    "\n",
    "df_fis = pd.DataFrame(np.random.randint(12, size=(100, 1)), columns=['Qt_acertos'])\n",
    "\n",
    "df_qui = pd.DataFrame(np.random.randint(12, size=(100, 1)), columns=['Qt_acertos'])"
   ]
  },
  {
   "cell_type": "code",
   "execution_count": 40,
   "metadata": {},
   "outputs": [],
   "source": [
    "# 1) Seu código aqui\n",
    "\n",
    "pc_mat = df_mat / 24\n",
    "pc_por = df_por / 18\n",
    "pc_geo = df_geo /  8\n",
    "pc_ing = df_ing /  8\n",
    "pc_his = df_his /  8\n",
    "pc_fis = df_fis /  8\n",
    "pc_qui = df_qui /  8"
   ]
  },
  {
   "cell_type": "code",
   "execution_count": 41,
   "metadata": {},
   "outputs": [
    {
     "data": {
      "text/html": [
       "<div>\n",
       "<style scoped>\n",
       "    .dataframe tbody tr th:only-of-type {\n",
       "        vertical-align: middle;\n",
       "    }\n",
       "\n",
       "    .dataframe tbody tr th {\n",
       "        vertical-align: top;\n",
       "    }\n",
       "\n",
       "    .dataframe thead th {\n",
       "        text-align: right;\n",
       "    }\n",
       "</style>\n",
       "<table border=\"1\" class=\"dataframe\">\n",
       "  <thead>\n",
       "    <tr style=\"text-align: right;\">\n",
       "      <th></th>\n",
       "      <th>Qt_acertos</th>\n",
       "    </tr>\n",
       "  </thead>\n",
       "  <tbody>\n",
       "    <tr>\n",
       "      <th>0</th>\n",
       "      <td>35</td>\n",
       "    </tr>\n",
       "    <tr>\n",
       "      <th>1</th>\n",
       "      <td>48</td>\n",
       "    </tr>\n",
       "    <tr>\n",
       "      <th>2</th>\n",
       "      <td>50</td>\n",
       "    </tr>\n",
       "    <tr>\n",
       "      <th>3</th>\n",
       "      <td>32</td>\n",
       "    </tr>\n",
       "    <tr>\n",
       "      <th>4</th>\n",
       "      <td>30</td>\n",
       "    </tr>\n",
       "    <tr>\n",
       "      <th>...</th>\n",
       "      <td>...</td>\n",
       "    </tr>\n",
       "    <tr>\n",
       "      <th>95</th>\n",
       "      <td>34</td>\n",
       "    </tr>\n",
       "    <tr>\n",
       "      <th>96</th>\n",
       "      <td>27</td>\n",
       "    </tr>\n",
       "    <tr>\n",
       "      <th>97</th>\n",
       "      <td>40</td>\n",
       "    </tr>\n",
       "    <tr>\n",
       "      <th>98</th>\n",
       "      <td>40</td>\n",
       "    </tr>\n",
       "    <tr>\n",
       "      <th>99</th>\n",
       "      <td>42</td>\n",
       "    </tr>\n",
       "  </tbody>\n",
       "</table>\n",
       "<p>100 rows × 1 columns</p>\n",
       "</div>"
      ],
      "text/plain": [
       "    Qt_acertos\n",
       "0           35\n",
       "1           48\n",
       "2           50\n",
       "3           32\n",
       "4           30\n",
       "..         ...\n",
       "95          34\n",
       "96          27\n",
       "97          40\n",
       "98          40\n",
       "99          42\n",
       "\n",
       "[100 rows x 1 columns]"
      ]
     },
     "execution_count": 41,
     "metadata": {},
     "output_type": "execute_result"
    }
   ],
   "source": [
    "# 2) Seu código aqui\n",
    "total = df_mat + df_por + df_geo + df_ing + df_his + df_fis + df_qui\n",
    "total"
   ]
  },
  {
   "cell_type": "code",
   "execution_count": 51,
   "metadata": {},
   "outputs": [
    {
     "data": {
      "text/html": [
       "<div>\n",
       "<style scoped>\n",
       "    .dataframe tbody tr th:only-of-type {\n",
       "        vertical-align: middle;\n",
       "    }\n",
       "\n",
       "    .dataframe tbody tr th {\n",
       "        vertical-align: top;\n",
       "    }\n",
       "\n",
       "    .dataframe thead th {\n",
       "        text-align: right;\n",
       "    }\n",
       "</style>\n",
       "<table border=\"1\" class=\"dataframe\">\n",
       "  <thead>\n",
       "    <tr style=\"text-align: right;\">\n",
       "      <th></th>\n",
       "      <th>Qt_acertos</th>\n",
       "    </tr>\n",
       "  </thead>\n",
       "  <tbody>\n",
       "    <tr>\n",
       "      <th>0</th>\n",
       "      <td>38.89%</td>\n",
       "    </tr>\n",
       "    <tr>\n",
       "      <th>1</th>\n",
       "      <td>53.33%</td>\n",
       "    </tr>\n",
       "    <tr>\n",
       "      <th>2</th>\n",
       "      <td>55.56%</td>\n",
       "    </tr>\n",
       "    <tr>\n",
       "      <th>3</th>\n",
       "      <td>35.56%</td>\n",
       "    </tr>\n",
       "    <tr>\n",
       "      <th>4</th>\n",
       "      <td>33.33%</td>\n",
       "    </tr>\n",
       "    <tr>\n",
       "      <th>...</th>\n",
       "      <td>...</td>\n",
       "    </tr>\n",
       "    <tr>\n",
       "      <th>95</th>\n",
       "      <td>37.78%</td>\n",
       "    </tr>\n",
       "    <tr>\n",
       "      <th>96</th>\n",
       "      <td>30.00%</td>\n",
       "    </tr>\n",
       "    <tr>\n",
       "      <th>97</th>\n",
       "      <td>44.44%</td>\n",
       "    </tr>\n",
       "    <tr>\n",
       "      <th>98</th>\n",
       "      <td>44.44%</td>\n",
       "    </tr>\n",
       "    <tr>\n",
       "      <th>99</th>\n",
       "      <td>46.67%</td>\n",
       "    </tr>\n",
       "  </tbody>\n",
       "</table>\n",
       "<p>100 rows × 1 columns</p>\n",
       "</div>"
      ],
      "text/plain": [
       "   Qt_acertos\n",
       "0      38.89%\n",
       "1      53.33%\n",
       "2      55.56%\n",
       "3      35.56%\n",
       "4      33.33%\n",
       "..        ...\n",
       "95     37.78%\n",
       "96     30.00%\n",
       "97     44.44%\n",
       "98     44.44%\n",
       "99     46.67%\n",
       "\n",
       "[100 rows x 1 columns]"
      ]
     },
     "execution_count": 51,
     "metadata": {},
     "output_type": "execute_result"
    }
   ],
   "source": [
    "# 3) Seu código aqui\n",
    "listaPercentuais = (total/90)*100\n",
    "listaPercentuais.map('{:.2f}%'.format)"
   ]
  },
  {
   "cell_type": "code",
   "execution_count": 53,
   "metadata": {},
   "outputs": [
    {
     "data": {
      "text/plain": [
       "Qt_acertos    47\n",
       "dtype: int64"
      ]
     },
     "execution_count": 53,
     "metadata": {},
     "output_type": "execute_result"
    }
   ],
   "source": [
    "# 4) Seu código aqui\n",
    "total_gt_45 = listaPercentuais[listaPercentuais['Qt_acertos'] > 45]\n",
    "total_gt_45.count()"
   ]
  },
  {
   "cell_type": "markdown",
   "metadata": {},
   "source": [
    "## 2) Vestibular II\n",
    "\n",
    "Ainda sobre o mesmo banco de dados:\n",
    "\n",
    "1. Neste vestibular, quem 'zera' em matemática, física ou química está desqualificado. Monte um novo *DataFrame* com os alunos desqualificados por este critério.\n",
    "2. Quantos são esses alunos?\n",
    "3. Qual a média desses alunos em história e geografia?\n",
    "4. Monte um *DataFrame* com os alunos que passaram para a segunda fase. Repare que estes alunos não podem ter sido desqualificados."
   ]
  },
  {
   "cell_type": "code",
   "execution_count": 64,
   "metadata": {},
   "outputs": [
    {
     "data": {
      "text/plain": [
       "Index([ 3,  6, 10, 12, 14, 20, 25, 26, 27, 33, 35, 49, 56, 65, 66, 72, 73, 74,\n",
       "       84, 89, 92, 94, 98],\n",
       "      dtype='int64')"
      ]
     },
     "execution_count": 64,
     "metadata": {},
     "output_type": "execute_result"
    }
   ],
   "source": [
    "# seu código aqui\n",
    "df_eliminados = total[(df_mat['Qt_acertos'] == 0) | \n",
    "                      (df_fis['Qt_acertos'] == 0) | \n",
    "                      (df_qui['Qt_acertos'] == 0)]\n",
    "\n",
    "df_eliminados.index"
   ]
  },
  {
   "cell_type": "markdown",
   "metadata": {},
   "source": [
    "## 3) Vacinações no Acre\n",
    "Vamos trabalhar agora com a base de vacinações no Acre. Para facilitar a sua vida, copiamos o link do arquivo na célula abaixo.\n",
    "\n",
    "1. Quantas vacinas estão registradas nessa base?  \n",
    "2. Quantos pacientes foram vacinados? (considere um paciente para cada valor único de ```paciente_id```)  \n",
    "3. Quantos pacientes únicos tomaram a primeira dose? OBS: Há um caractere especial neste campo. Receba os valores do campo com o método ```.unique()```.   \n",
    "4. Quantos pacientes com menos de 18 anos foram vacinados?  \n",
    "5. Quantos estabelecimentos aplicaram vacina no Acre?\n",
    "\n",
    "\n",
    "**OBS:** O portal do DATASUS pode apresentar instabilidades, retornando um erro na segunda célula abaixo. Por este motivo está disponível uma base estática, que se for baixada para o seu *working directory* pode ser lida com este comando: ```df = pd.read_csv('registros de vacinacao covid ACRE.csv', sep=';')```.\n",
    "\n",
    "**OBS2:** Para saber qual é o seu working directory, rode no jupyter: ```!pwd```."
   ]
  },
  {
   "cell_type": "code",
   "execution_count": 27,
   "metadata": {},
   "outputs": [],
   "source": [
    "arquivo = './CSV_aula_3/csv_dados_ac.csv'"
   ]
  },
  {
   "cell_type": "code",
   "execution_count": 28,
   "metadata": {},
   "outputs": [],
   "source": [
    "# 1) Sua solução aqui\n",
    "df = pd.read_csv(arquivo, sep=';')\n"
   ]
  },
  {
   "cell_type": "code",
   "execution_count": 29,
   "metadata": {},
   "outputs": [
    {
     "data": {
      "text/html": [
       "<div>\n",
       "<style scoped>\n",
       "    .dataframe tbody tr th:only-of-type {\n",
       "        vertical-align: middle;\n",
       "    }\n",
       "\n",
       "    .dataframe tbody tr th {\n",
       "        vertical-align: top;\n",
       "    }\n",
       "\n",
       "    .dataframe thead th {\n",
       "        text-align: right;\n",
       "    }\n",
       "</style>\n",
       "<table border=\"1\" class=\"dataframe\">\n",
       "  <thead>\n",
       "    <tr style=\"text-align: right;\">\n",
       "      <th></th>\n",
       "      <th>document_id</th>\n",
       "      <th>paciente_id</th>\n",
       "      <th>paciente_idade</th>\n",
       "      <th>paciente_dataNascimento</th>\n",
       "      <th>paciente_enumSexoBiologico</th>\n",
       "      <th>paciente_racaCor_codigo</th>\n",
       "      <th>paciente_racaCor_valor</th>\n",
       "      <th>paciente_endereco_coIbgeMunicipio</th>\n",
       "      <th>paciente_endereco_coPais</th>\n",
       "      <th>paciente_endereco_nmMunicipio</th>\n",
       "      <th>...</th>\n",
       "      <th>vacina_categoria_codigo</th>\n",
       "      <th>vacina_categoria_nome</th>\n",
       "      <th>vacina_lote</th>\n",
       "      <th>vacina_fabricante_nome</th>\n",
       "      <th>vacina_fabricante_referencia</th>\n",
       "      <th>vacina_dataAplicacao</th>\n",
       "      <th>vacina_descricao_dose</th>\n",
       "      <th>vacina_codigo</th>\n",
       "      <th>vacina_nome</th>\n",
       "      <th>sistema_origem</th>\n",
       "    </tr>\n",
       "  </thead>\n",
       "  <tbody>\n",
       "    <tr>\n",
       "      <th>0</th>\n",
       "      <td>ab674854-f54d-49d5-a775-a96daa895854-i0b0</td>\n",
       "      <td>b9273ea164faa4f18428df838fe7cec71dbd7c8932bf79...</td>\n",
       "      <td>53.0</td>\n",
       "      <td>1968-10-28</td>\n",
       "      <td>F</td>\n",
       "      <td>3.0</td>\n",
       "      <td>PARDA</td>\n",
       "      <td>120020.0</td>\n",
       "      <td>10.0</td>\n",
       "      <td>CRUZEIRO DO SUL</td>\n",
       "      <td>...</td>\n",
       "      <td>8.0</td>\n",
       "      <td>Trabalhadores da Educação</td>\n",
       "      <td>219VCD279Z</td>\n",
       "      <td>ASTRAZENECA/FIOCRUZ</td>\n",
       "      <td>Organization/149</td>\n",
       "      <td>2021-11-25</td>\n",
       "      <td>2ª Dose</td>\n",
       "      <td>85</td>\n",
       "      <td>COVID-19 ASTRAZENECA/FIOCRUZ - COVISHIELD</td>\n",
       "      <td>Novo PNI</td>\n",
       "    </tr>\n",
       "    <tr>\n",
       "      <th>1</th>\n",
       "      <td>164d5a56-092e-4441-8774-04b91aa05833-i0b0</td>\n",
       "      <td>d9b8df84506eca7dc6f8c3c4ea0e54a0aa6fd048c67695...</td>\n",
       "      <td>22.0</td>\n",
       "      <td>1998-12-07</td>\n",
       "      <td>M</td>\n",
       "      <td>1.0</td>\n",
       "      <td>BRANCA</td>\n",
       "      <td>120030.0</td>\n",
       "      <td>10.0</td>\n",
       "      <td>FEIJO</td>\n",
       "      <td>...</td>\n",
       "      <td>8.0</td>\n",
       "      <td>Trabalhadores da Educação</td>\n",
       "      <td>215VCD120W</td>\n",
       "      <td>ASTRAZENECA/FIOCRUZ</td>\n",
       "      <td>Organization/33781055000135</td>\n",
       "      <td>2021-06-22</td>\n",
       "      <td>1ª Dose</td>\n",
       "      <td>85</td>\n",
       "      <td>COVID-19 ASTRAZENECA/FIOCRUZ - COVISHIELD</td>\n",
       "      <td>Novo PNI</td>\n",
       "    </tr>\n",
       "    <tr>\n",
       "      <th>2</th>\n",
       "      <td>c88468a5-8ab8-476b-b4cf-b14b3d162eef-i0b0</td>\n",
       "      <td>bf1449197deb7547c7def033007298d9efe43752babc42...</td>\n",
       "      <td>15.0</td>\n",
       "      <td>2006-08-11</td>\n",
       "      <td>F</td>\n",
       "      <td>99.0</td>\n",
       "      <td>SEM INFORMACAO</td>\n",
       "      <td>120040.0</td>\n",
       "      <td>10.0</td>\n",
       "      <td>RIO BRANCO</td>\n",
       "      <td>...</td>\n",
       "      <td>2.0</td>\n",
       "      <td>Faixa Etária</td>\n",
       "      <td>FD7208</td>\n",
       "      <td>PFIZER</td>\n",
       "      <td>Organization/00394544000851</td>\n",
       "      <td>2021-09-15</td>\n",
       "      <td>1ª Dose</td>\n",
       "      <td>87</td>\n",
       "      <td>COVID-19 PFIZER - COMIRNATY</td>\n",
       "      <td>Novo PNI</td>\n",
       "    </tr>\n",
       "    <tr>\n",
       "      <th>3</th>\n",
       "      <td>16abea54-2489-446d-b38e-4ea6658785f1-i0b0</td>\n",
       "      <td>069f7a230bc925d8dcb73229825c4588b6fea9a74202b6...</td>\n",
       "      <td>9.0</td>\n",
       "      <td>2012-08-27</td>\n",
       "      <td>F</td>\n",
       "      <td>3.0</td>\n",
       "      <td>PARDA</td>\n",
       "      <td>120040.0</td>\n",
       "      <td>10.0</td>\n",
       "      <td>RIO BRANCO</td>\n",
       "      <td>...</td>\n",
       "      <td>NaN</td>\n",
       "      <td>NaN</td>\n",
       "      <td>210416</td>\n",
       "      <td>SINOVAC/BUTANTAN</td>\n",
       "      <td>152</td>\n",
       "      <td>2022-08-02</td>\n",
       "      <td>1ª Dose</td>\n",
       "      <td>86</td>\n",
       "      <td>COVID-19 SINOVAC/BUTANTAN - CORONAVAC</td>\n",
       "      <td>Novo PNI</td>\n",
       "    </tr>\n",
       "    <tr>\n",
       "      <th>4</th>\n",
       "      <td>01424f3a-dd2d-4a05-aed7-8cd5ced96ceb-i0b0</td>\n",
       "      <td>5765603e0c72dfd762dd974283af1593ca3669a94c956c...</td>\n",
       "      <td>26.0</td>\n",
       "      <td>1995-06-29</td>\n",
       "      <td>F</td>\n",
       "      <td>3.0</td>\n",
       "      <td>PARDA</td>\n",
       "      <td>120040.0</td>\n",
       "      <td>10.0</td>\n",
       "      <td>RIO BRANCO</td>\n",
       "      <td>...</td>\n",
       "      <td>2.0</td>\n",
       "      <td>Faixa Etária</td>\n",
       "      <td>FG3533</td>\n",
       "      <td>PFIZER</td>\n",
       "      <td>Organization/00394544000851</td>\n",
       "      <td>2021-10-27</td>\n",
       "      <td>2ª Dose</td>\n",
       "      <td>87</td>\n",
       "      <td>COVID-19 PFIZER - COMIRNATY</td>\n",
       "      <td>Novo PNI</td>\n",
       "    </tr>\n",
       "  </tbody>\n",
       "</table>\n",
       "<p>5 rows × 32 columns</p>\n",
       "</div>"
      ],
      "text/plain": [
       "                                 document_id  \\\n",
       "0  ab674854-f54d-49d5-a775-a96daa895854-i0b0   \n",
       "1  164d5a56-092e-4441-8774-04b91aa05833-i0b0   \n",
       "2  c88468a5-8ab8-476b-b4cf-b14b3d162eef-i0b0   \n",
       "3  16abea54-2489-446d-b38e-4ea6658785f1-i0b0   \n",
       "4  01424f3a-dd2d-4a05-aed7-8cd5ced96ceb-i0b0   \n",
       "\n",
       "                                         paciente_id  paciente_idade  \\\n",
       "0  b9273ea164faa4f18428df838fe7cec71dbd7c8932bf79...            53.0   \n",
       "1  d9b8df84506eca7dc6f8c3c4ea0e54a0aa6fd048c67695...            22.0   \n",
       "2  bf1449197deb7547c7def033007298d9efe43752babc42...            15.0   \n",
       "3  069f7a230bc925d8dcb73229825c4588b6fea9a74202b6...             9.0   \n",
       "4  5765603e0c72dfd762dd974283af1593ca3669a94c956c...            26.0   \n",
       "\n",
       "  paciente_dataNascimento paciente_enumSexoBiologico  paciente_racaCor_codigo  \\\n",
       "0              1968-10-28                          F                      3.0   \n",
       "1              1998-12-07                          M                      1.0   \n",
       "2              2006-08-11                          F                     99.0   \n",
       "3              2012-08-27                          F                      3.0   \n",
       "4              1995-06-29                          F                      3.0   \n",
       "\n",
       "  paciente_racaCor_valor  paciente_endereco_coIbgeMunicipio  \\\n",
       "0                  PARDA                           120020.0   \n",
       "1                 BRANCA                           120030.0   \n",
       "2         SEM INFORMACAO                           120040.0   \n",
       "3                  PARDA                           120040.0   \n",
       "4                  PARDA                           120040.0   \n",
       "\n",
       "   paciente_endereco_coPais paciente_endereco_nmMunicipio  ...  \\\n",
       "0                      10.0               CRUZEIRO DO SUL  ...   \n",
       "1                      10.0                         FEIJO  ...   \n",
       "2                      10.0                    RIO BRANCO  ...   \n",
       "3                      10.0                    RIO BRANCO  ...   \n",
       "4                      10.0                    RIO BRANCO  ...   \n",
       "\n",
       "  vacina_categoria_codigo      vacina_categoria_nome  vacina_lote  \\\n",
       "0                     8.0  Trabalhadores da Educação   219VCD279Z   \n",
       "1                     8.0  Trabalhadores da Educação   215VCD120W   \n",
       "2                     2.0               Faixa Etária       FD7208   \n",
       "3                     NaN                        NaN       210416   \n",
       "4                     2.0               Faixa Etária       FG3533   \n",
       "\n",
       "  vacina_fabricante_nome  vacina_fabricante_referencia vacina_dataAplicacao  \\\n",
       "0    ASTRAZENECA/FIOCRUZ              Organization/149           2021-11-25   \n",
       "1    ASTRAZENECA/FIOCRUZ   Organization/33781055000135           2021-06-22   \n",
       "2                 PFIZER   Organization/00394544000851           2021-09-15   \n",
       "3       SINOVAC/BUTANTAN                           152           2022-08-02   \n",
       "4                 PFIZER   Organization/00394544000851           2021-10-27   \n",
       "\n",
       "  vacina_descricao_dose  vacina_codigo  \\\n",
       "0               2ª Dose             85   \n",
       "1               1ª Dose             85   \n",
       "2               1ª Dose             87   \n",
       "3               1ª Dose             86   \n",
       "4               2ª Dose             87   \n",
       "\n",
       "                                 vacina_nome sistema_origem  \n",
       "0  COVID-19 ASTRAZENECA/FIOCRUZ - COVISHIELD       Novo PNI  \n",
       "1  COVID-19 ASTRAZENECA/FIOCRUZ - COVISHIELD       Novo PNI  \n",
       "2                COVID-19 PFIZER - COMIRNATY       Novo PNI  \n",
       "3      COVID-19 SINOVAC/BUTANTAN - CORONAVAC       Novo PNI  \n",
       "4                COVID-19 PFIZER - COMIRNATY       Novo PNI  \n",
       "\n",
       "[5 rows x 32 columns]"
      ]
     },
     "execution_count": 29,
     "metadata": {},
     "output_type": "execute_result"
    }
   ],
   "source": [
    "df.head()"
   ]
  },
  {
   "cell_type": "code",
   "execution_count": 30,
   "metadata": {},
   "outputs": [
    {
     "data": {
      "text/plain": [
       "386505"
      ]
     },
     "execution_count": 30,
     "metadata": {},
     "output_type": "execute_result"
    }
   ],
   "source": [
    "df.shape[0]"
   ]
  },
  {
   "cell_type": "code",
   "execution_count": 31,
   "metadata": {},
   "outputs": [
    {
     "data": {
      "text/plain": [
       "316057"
      ]
     },
     "execution_count": 31,
     "metadata": {},
     "output_type": "execute_result"
    }
   ],
   "source": [
    "# 2) \n",
    "df['paciente_id'].nunique()"
   ]
  },
  {
   "cell_type": "code",
   "execution_count": 32,
   "metadata": {},
   "outputs": [
    {
     "data": {
      "text/plain": [
       "120096"
      ]
     },
     "execution_count": 32,
     "metadata": {},
     "output_type": "execute_result"
    }
   ],
   "source": [
    "# 3) \n",
    "primeira_dose = df['vacina_descricao_dose'].unique()[0]\n",
    "df['paciente_id'].loc[df['vacina_descricao_dose'] == primeira_dose].nunique()"
   ]
  },
  {
   "cell_type": "code",
   "execution_count": 33,
   "metadata": {},
   "outputs": [
    {
     "data": {
      "text/plain": [
       "120096"
      ]
     },
     "execution_count": 33,
     "metadata": {},
     "output_type": "execute_result"
    }
   ],
   "source": [
    "# 3) solução alternativa\n",
    "primeira_dose = df['vacina_descricao_dose'].unique()[0]\n",
    "df_primeira_dose = df[df['vacina_descricao_dose'] == primeira_dose]\n",
    "df_primeira_dose['paciente_id'].nunique()"
   ]
  },
  {
   "cell_type": "code",
   "execution_count": 34,
   "metadata": {},
   "outputs": [
    {
     "data": {
      "text/plain": [
       "67882"
      ]
     },
     "execution_count": 34,
     "metadata": {},
     "output_type": "execute_result"
    }
   ],
   "source": [
    "# 4) \n",
    "df_menor = df[df[\"paciente_idade\"]<18]\n",
    "df_menor['paciente_id'].nunique()"
   ]
  },
  {
   "cell_type": "code",
   "execution_count": 36,
   "metadata": {},
   "outputs": [
    {
     "data": {
      "text/plain": [
       "1529"
      ]
     },
     "execution_count": 36,
     "metadata": {},
     "output_type": "execute_result"
    }
   ],
   "source": [
    "# 5)\n",
    "df['paciente_endereco_nmMunicipio'].nunique()"
   ]
  },
  {
   "cell_type": "markdown",
   "metadata": {},
   "source": [
    "## 4) Vacinação II\n",
    "Gere um *DataFrame* que contenha somente os estabelecimentos que aplicaram vcinas a menores de 18 anos. Nesse *DataFrame* devem conter somente os dados dos estabelecimentos, mais uma coluna sendo a quantidade de vacinas que o estabelecimento aplicou a menores de 18 anos.  \n",
    "  \n",
    "1. crie uma cópia do *DataFrame* original, contendo somente os registros de vacinas realizadas a menores de 18 anos.  \n",
    "2. crie uma lista das colunas desse *DataFrame* com o atributo de *DataFrame* **.columns()**  \n",
    "3. Nesse *DataFrame* faça uma contagem do campo ```vacina_categoria_nome```.\n",
    "3. a partir da lista de colunas, escolha somente aquelas que são referentes ao estabelecimento, faça uma lista com esses valores.  \n",
    "4. usando o método *.loc*, selecione somente essas variáveis  \n",
    "5. Aplique o método **.drop_duplicates** e crie uma lista com uma linha para cada estabelecimento, com os dados do estabelecimento  "
   ]
  },
  {
   "cell_type": "code",
   "execution_count": 65,
   "metadata": {},
   "outputs": [],
   "source": [
    "# 1) \n",
    "df_menor = df[df[\"paciente_idade\"]<18].copy()"
   ]
  },
  {
   "cell_type": "code",
   "execution_count": 67,
   "metadata": {},
   "outputs": [
    {
     "data": {
      "text/plain": [
       "Index(['document_id', 'paciente_id', 'paciente_idade',\n",
       "       'paciente_dataNascimento', 'paciente_enumSexoBiologico',\n",
       "       'paciente_racaCor_codigo', 'paciente_racaCor_valor',\n",
       "       'paciente_endereco_coIbgeMunicipio', 'paciente_endereco_coPais',\n",
       "       'paciente_endereco_nmMunicipio', 'paciente_endereco_nmPais',\n",
       "       'paciente_endereco_uf', 'paciente_endereco_cep',\n",
       "       'paciente_nacionalidade_enumNacionalidade', 'estabelecimento_valor',\n",
       "       'estabelecimento_razaoSocial', 'estalecimento_noFantasia',\n",
       "       'estabelecimento_municipio_codigo', 'estabelecimento_municipio_nome',\n",
       "       'estabelecimento_uf', 'vacina_grupoAtendimento_codigo',\n",
       "       'vacina_grupoAtendimento_nome', 'vacina_categoria_codigo',\n",
       "       'vacina_categoria_nome', 'vacina_lote', 'vacina_fabricante_nome',\n",
       "       'vacina_fabricante_referencia', 'vacina_dataAplicacao',\n",
       "       'vacina_descricao_dose', 'vacina_codigo', 'vacina_nome',\n",
       "       'sistema_origem', 'Percentual de acerto'],\n",
       "      dtype='object')"
      ]
     },
     "execution_count": 67,
     "metadata": {},
     "output_type": "execute_result"
    }
   ],
   "source": [
    "# 2) \n",
    "df_menor.columns"
   ]
  },
  {
   "cell_type": "code",
   "execution_count": 78,
   "metadata": {},
   "outputs": [
    {
     "data": {
      "text/plain": [
       "vacina_categoria_nome\n",
       "Faixa Etária                                      47187\n",
       "Povos Indígenas                                    4577\n",
       "Outros                                             3755\n",
       "Povos e Comunidades Tradicionais                    818\n",
       "Trabalhadores de Saúde                              254\n",
       "Comorbidades                                         56\n",
       "População Privada de Liberdade                       53\n",
       "Gestantes                                            42\n",
       "Pessoas com Deficiência                              11\n",
       "Pessoas Institucionalizadas                           3\n",
       "Trabalhadores da Educação                             2\n",
       "Pessoas de 60 anos ou mais institucionalizadas        1\n",
       "Puérperas                                             1\n",
       "Name: count, dtype: int64"
      ]
     },
     "execution_count": 78,
     "metadata": {},
     "output_type": "execute_result"
    }
   ],
   "source": [
    "# 3)\n",
    "df_menor['vacina_categoria_nome'].value_counts()"
   ]
  },
  {
   "cell_type": "code",
   "execution_count": 75,
   "metadata": {},
   "outputs": [],
   "source": [
    "# 4)\n",
    "lista_variaveis = ['estabelecimento_valor',\n",
    "       'estabelecimento_razaoSocial', 'estalecimento_noFantasia',\n",
    "       'estabelecimento_municipio_codigo', 'estabelecimento_municipio_nome',\n",
    "       'estabelecimento_uf']\n",
    "df_menor_lista = df_menor.loc[:,lista_variaveis]"
   ]
  },
  {
   "cell_type": "code",
   "execution_count": 76,
   "metadata": {},
   "outputs": [
    {
     "data": {
      "text/plain": [
       "(204, 6)"
      ]
     },
     "execution_count": 76,
     "metadata": {},
     "output_type": "execute_result"
    }
   ],
   "source": [
    "# 5)\n",
    "df_menor_lista = df_menor_lista.drop_duplicates()\n",
    "df_menor_lista.shape"
   ]
  }
 ],
 "metadata": {
  "kernelspec": {
   "display_name": "Python 3 (ipykernel)",
   "language": "python",
   "name": "python3"
  },
  "language_info": {
   "codemirror_mode": {
    "name": "ipython",
    "version": 3
   },
   "file_extension": ".py",
   "mimetype": "text/x-python",
   "name": "python",
   "nbconvert_exporter": "python",
   "pygments_lexer": "ipython3",
   "version": "3.11.7"
  },
  "toc": {
   "base_numbering": 1,
   "nav_menu": {},
   "number_sections": false,
   "sideBar": true,
   "skip_h1_title": true,
   "title_cell": "Índice",
   "title_sidebar": "Conteúdo",
   "toc_cell": false,
   "toc_position": {},
   "toc_section_display": true,
   "toc_window_display": false
  },
  "varInspector": {
   "cols": {
    "lenName": 16,
    "lenType": 16,
    "lenVar": 40
   },
   "kernels_config": {
    "python": {
     "delete_cmd_postfix": "",
     "delete_cmd_prefix": "del ",
     "library": "var_list.py",
     "varRefreshCmd": "print(var_dic_list())"
    },
    "r": {
     "delete_cmd_postfix": ") ",
     "delete_cmd_prefix": "rm(",
     "library": "var_list.r",
     "varRefreshCmd": "cat(var_dic_list()) "
    }
   },
   "types_to_exclude": [
    "module",
    "function",
    "builtin_function_or_method",
    "instance",
    "_Feature"
   ],
   "window_display": false
  }
 },
 "nbformat": 4,
 "nbformat_minor": 4
}
